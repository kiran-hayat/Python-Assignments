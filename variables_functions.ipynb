{
 "cells": [
  {
   "cell_type": "code",
   "execution_count": null,
   "metadata": {},
   "outputs": [],
   "source": [
    "#variable\n",
    "mera_variable ='kiran'"
   ]
  },
  {
   "cell_type": "code",
   "execution_count": null,
   "metadata": {},
   "outputs": [
    {
     "data": {
      "text/plain": [
       "'0x170ae4dec10'"
      ]
     },
     "metadata": {},
     "output_type": "display_data"
    }
   ],
   "source": [
    "hex(id(mera_variable))"
   ]
  },
  {
   "cell_type": "code",
   "execution_count": null,
   "metadata": {},
   "outputs": [
    {
     "data": {
      "text/plain": [
       "str"
      ]
     },
     "metadata": {},
     "output_type": "display_data"
    }
   ],
   "source": [
    "type(mera_variable)"
   ]
  },
  {
   "cell_type": "code",
   "execution_count": null,
   "metadata": {},
   "outputs": [
    {
     "data": {
      "text/plain": [
       "'kiran'"
      ]
     },
     "metadata": {},
     "output_type": "display_data"
    }
   ],
   "source": [
    "mera_variable"
   ]
  },
  {
   "cell_type": "code",
   "execution_count": null,
   "metadata": {},
   "outputs": [
    {
     "data": {
      "text/plain": [
       "1540"
      ]
     },
     "metadata": {},
     "output_type": "display_data"
    }
   ],
   "source": [
    "# mera function:\n",
    "def sum_of_numbers(n):\n",
    "    if n==1:\n",
    "        return 1\n",
    "    else:\n",
    "        return n+sum_of_numbers(n-1)\n",
    "sum_of_numbers(55)"
   ]
  },
  {
   "cell_type": "code",
   "execution_count": null,
   "metadata": {},
   "outputs": [
    {
     "data": {
      "text/plain": [
       "'0x170aea96f20'"
      ]
     },
     "metadata": {},
     "output_type": "display_data"
    }
   ],
   "source": [
    "hex(id(sum_of_numbers))"
   ]
  },
  {
   "cell_type": "code",
   "execution_count": null,
   "metadata": {},
   "outputs": [
    {
     "data": {
      "text/plain": [
       "function"
      ]
     },
     "metadata": {},
     "output_type": "display_data"
    }
   ],
   "source": [
    "type(sum_of_numbers)"
   ]
  },
  {
   "cell_type": "code",
   "execution_count": null,
   "metadata": {},
   "outputs": [
    {
     "data": {
      "text/plain": [
       "<function __main__.sum_of_numbers(n)>"
      ]
     },
     "metadata": {},
     "output_type": "display_data"
    }
   ],
   "source": [
    "sum_of_numbers"
   ]
  },
  {
   "cell_type": "code",
   "execution_count": null,
   "metadata": {},
   "outputs": [
    {
     "data": {
      "text/plain": [
       "15"
      ]
     },
     "metadata": {},
     "output_type": "display_data"
    }
   ],
   "source": [
    "#lambda function;\n",
    "multiplay_of_numbers = lambda x,y:x*y\n",
    "multiplay_of_numbers(3,5) "
   ]
  },
  {
   "cell_type": "code",
   "execution_count": null,
   "metadata": {},
   "outputs": [
    {
     "data": {
      "text/plain": [
       "'0x170aea96700'"
      ]
     },
     "metadata": {},
     "output_type": "display_data"
    }
   ],
   "source": [
    "hex(id(multiplay_of_numbers))"
   ]
  },
  {
   "cell_type": "code",
   "execution_count": null,
   "metadata": {},
   "outputs": [
    {
     "data": {
      "text/plain": [
       "function"
      ]
     },
     "metadata": {},
     "output_type": "display_data"
    }
   ],
   "source": [
    "type(multiplay_of_numbers)"
   ]
  },
  {
   "cell_type": "code",
   "execution_count": null,
   "metadata": {},
   "outputs": [
    {
     "data": {
      "text/plain": [
       "<function __main__.<lambda>(x, y)>"
      ]
     },
     "metadata": {},
     "output_type": "display_data"
    }
   ],
   "source": [
    "multiplay_of_numbers"
   ]
  },
  {
   "cell_type": "code",
   "execution_count": null,
   "metadata": {},
   "outputs": [
    {
     "data": {
      "text/plain": [
       "{'__name__': '__main__',\n",
       " '__doc__': 'Automatically created module for IPython interactive environment',\n",
       " '__package__': None,\n",
       " '__loader__': None,\n",
       " '__spec__': None,\n",
       " '__builtin__': <module 'builtins' (built-in)>,\n",
       " '__builtins__': <module 'builtins' (built-in)>,\n",
       " '_ih': ['',\n",
       "  '# mera function:\\ndef mera_function(n):\\n    if n==1:\\n        return 1\\n    else:\\n        return n+mera_function(n-1)\\nmera_function(54)',\n",
       "  '# mera function:\\ndef sum_of_numbers(n):\\n    if n==1:\\n        return 1\\n    else:\\n        return n+sum_of_numbers(n-1)\\nsum_of_numbers(54)',\n",
       "  '# mera function:\\ndef sum_of_numbers(n):\\n    if n==1:\\n        return 1\\n    else:\\n        return n+sum_of_numbers(n-1)\\nsum_of_numbers(543)',\n",
       "  '# mera function:\\ndef sum_of_numbers(n):\\n    if n==1:\\n        return 1\\n    else:\\n        return n+sum_of_numbers(n-1)\\nsum_of_numbers(5453)',\n",
       "  '# mera function:\\ndef sum_of_numbers(n):\\n    if n==1:\\n        return 1\\n    else:\\n        return n+sum_of_numbers(n-1)\\nsum_of_numbers(553)',\n",
       "  '# mera function:\\ndef sum_of_numbers(n):\\n    if n==1:\\n        return 1\\n    else:\\n        return n+sum_of_numbers(n-1)\\nsum_of_numbers(55)',\n",
       "  '#lambda function;\\nmultiplay_of_numbers = lambda x,y:x*y\\nmultiplay_of_numbers(3,5) ',\n",
       "  'hex(id(mera_variable))',\n",
       "  \"mera_variable ='kiran'\",\n",
       "  'hex(id(mera_variable))',\n",
       "  'type(mera_variable)',\n",
       "  'mera_variable',\n",
       "  'hex(id(sum_of_numbers))',\n",
       "  'type(sum_of_numbers)',\n",
       "  'sum_of_numbers',\n",
       "  'hex(id(multiplay_of_numbers))',\n",
       "  'type(multiplay_of_numbers)',\n",
       "  'multiplay_of_numbers',\n",
       "  'globals()',\n",
       "  \"#variable\\nmera_variable ='kiran'\",\n",
       "  'hex(id(mera_variable))',\n",
       "  'type(mera_variable)',\n",
       "  'mera_variable',\n",
       "  '# mera function:\\ndef sum_of_numbers(n):\\n    if n==1:\\n        return 1\\n    else:\\n        return n+sum_of_numbers(n-1)\\nsum_of_numbers(55)',\n",
       "  'hex(id(sum_of_numbers))',\n",
       "  'type(sum_of_numbers)',\n",
       "  'sum_of_numbers',\n",
       "  '#lambda function;\\nmultiplay_of_numbers = lambda x,y:x*y\\nmultiplay_of_numbers(3,5) ',\n",
       "  'hex(id(multiplay_of_numbers))',\n",
       "  'type(multiplay_of_numbers)',\n",
       "  'multiplay_of_numbers',\n",
       "  'globals()'],\n",
       " '_oh': {1: 1485,\n",
       "  2: 1485,\n",
       "  3: 147696,\n",
       "  5: 153181,\n",
       "  6: 1540,\n",
       "  7: 15,\n",
       "  10: '0x170ae4dec10',\n",
       "  11: str,\n",
       "  12: 'kiran',\n",
       "  13: '0x170ae4c28e0',\n",
       "  14: function,\n",
       "  15: <function __main__.sum_of_numbers(n)>,\n",
       "  16: '0x170aea95120',\n",
       "  17: function,\n",
       "  18: <function __main__.<lambda>(x, y)>,\n",
       "  19: {...},\n",
       "  21: '0x170ae4dec10',\n",
       "  22: str,\n",
       "  23: 'kiran',\n",
       "  24: 1540,\n",
       "  25: '0x170aea96f20',\n",
       "  26: function,\n",
       "  27: <function __main__.sum_of_numbers(n)>,\n",
       "  28: 15,\n",
       "  29: '0x170aea96700',\n",
       "  30: function,\n",
       "  31: <function __main__.<lambda>(x, y)>},\n",
       " '_dh': [WindowsPath('e:/python/datascience.py/githup.fles')],\n",
       " 'In': ['',\n",
       "  '# mera function:\\ndef mera_function(n):\\n    if n==1:\\n        return 1\\n    else:\\n        return n+mera_function(n-1)\\nmera_function(54)',\n",
       "  '# mera function:\\ndef sum_of_numbers(n):\\n    if n==1:\\n        return 1\\n    else:\\n        return n+sum_of_numbers(n-1)\\nsum_of_numbers(54)',\n",
       "  '# mera function:\\ndef sum_of_numbers(n):\\n    if n==1:\\n        return 1\\n    else:\\n        return n+sum_of_numbers(n-1)\\nsum_of_numbers(543)',\n",
       "  '# mera function:\\ndef sum_of_numbers(n):\\n    if n==1:\\n        return 1\\n    else:\\n        return n+sum_of_numbers(n-1)\\nsum_of_numbers(5453)',\n",
       "  '# mera function:\\ndef sum_of_numbers(n):\\n    if n==1:\\n        return 1\\n    else:\\n        return n+sum_of_numbers(n-1)\\nsum_of_numbers(553)',\n",
       "  '# mera function:\\ndef sum_of_numbers(n):\\n    if n==1:\\n        return 1\\n    else:\\n        return n+sum_of_numbers(n-1)\\nsum_of_numbers(55)',\n",
       "  '#lambda function;\\nmultiplay_of_numbers = lambda x,y:x*y\\nmultiplay_of_numbers(3,5) ',\n",
       "  'hex(id(mera_variable))',\n",
       "  \"mera_variable ='kiran'\",\n",
       "  'hex(id(mera_variable))',\n",
       "  'type(mera_variable)',\n",
       "  'mera_variable',\n",
       "  'hex(id(sum_of_numbers))',\n",
       "  'type(sum_of_numbers)',\n",
       "  'sum_of_numbers',\n",
       "  'hex(id(multiplay_of_numbers))',\n",
       "  'type(multiplay_of_numbers)',\n",
       "  'multiplay_of_numbers',\n",
       "  'globals()',\n",
       "  \"#variable\\nmera_variable ='kiran'\",\n",
       "  'hex(id(mera_variable))',\n",
       "  'type(mera_variable)',\n",
       "  'mera_variable',\n",
       "  '# mera function:\\ndef sum_of_numbers(n):\\n    if n==1:\\n        return 1\\n    else:\\n        return n+sum_of_numbers(n-1)\\nsum_of_numbers(55)',\n",
       "  'hex(id(sum_of_numbers))',\n",
       "  'type(sum_of_numbers)',\n",
       "  'sum_of_numbers',\n",
       "  '#lambda function;\\nmultiplay_of_numbers = lambda x,y:x*y\\nmultiplay_of_numbers(3,5) ',\n",
       "  'hex(id(multiplay_of_numbers))',\n",
       "  'type(multiplay_of_numbers)',\n",
       "  'multiplay_of_numbers',\n",
       "  'globals()'],\n",
       " 'Out': {1: 1485,\n",
       "  2: 1485,\n",
       "  3: 147696,\n",
       "  5: 153181,\n",
       "  6: 1540,\n",
       "  7: 15,\n",
       "  10: '0x170ae4dec10',\n",
       "  11: str,\n",
       "  12: 'kiran',\n",
       "  13: '0x170ae4c28e0',\n",
       "  14: function,\n",
       "  15: <function __main__.sum_of_numbers(n)>,\n",
       "  16: '0x170aea95120',\n",
       "  17: function,\n",
       "  18: <function __main__.<lambda>(x, y)>,\n",
       "  19: {...},\n",
       "  21: '0x170ae4dec10',\n",
       "  22: str,\n",
       "  23: 'kiran',\n",
       "  24: 1540,\n",
       "  25: '0x170aea96f20',\n",
       "  26: function,\n",
       "  27: <function __main__.sum_of_numbers(n)>,\n",
       "  28: 15,\n",
       "  29: '0x170aea96700',\n",
       "  30: function,\n",
       "  31: <function __main__.<lambda>(x, y)>},\n",
       " 'get_ipython': <bound method InteractiveShell.get_ipython of <ipykernel.zmqshell.ZMQInteractiveShell object at 0x00000170AE2BA7E0>>,\n",
       " 'exit': <IPython.core.autocall.ZMQExitAutocall at 0x170ae2b9b20>,\n",
       " 'quit': <IPython.core.autocall.ZMQExitAutocall at 0x170ae2b9b20>,\n",
       " 'open': <function _io.open(file, mode='r', buffering=-1, encoding=None, errors=None, newline=None, closefd=True, opener=None)>,\n",
       " '_': <function __main__.<lambda>(x, y)>,\n",
       " '__': function,\n",
       " '___': '0x170aea96700',\n",
       " '__vsc_ipynb_file__': 'e:\\\\python\\\\datascience.py\\\\githup.fles\\\\variables_functions.ipynb',\n",
       " '_i': 'multiplay_of_numbers',\n",
       " '_ii': 'type(multiplay_of_numbers)',\n",
       " '_iii': 'hex(id(multiplay_of_numbers))',\n",
       " '_i1': '# mera function:\\ndef mera_function(n):\\n    if n==1:\\n        return 1\\n    else:\\n        return n+mera_function(n-1)\\nmera_function(54)',\n",
       " 'mera_function': <function __main__.mera_function(n)>,\n",
       " '_1': 1485,\n",
       " '_i2': '# mera function:\\ndef sum_of_numbers(n):\\n    if n==1:\\n        return 1\\n    else:\\n        return n+sum_of_numbers(n-1)\\nsum_of_numbers(54)',\n",
       " 'sum_of_numbers': <function __main__.sum_of_numbers(n)>,\n",
       " '_2': 1485,\n",
       " '_i3': '# mera function:\\ndef sum_of_numbers(n):\\n    if n==1:\\n        return 1\\n    else:\\n        return n+sum_of_numbers(n-1)\\nsum_of_numbers(543)',\n",
       " '_3': 147696,\n",
       " '_i4': '# mera function:\\ndef sum_of_numbers(n):\\n    if n==1:\\n        return 1\\n    else:\\n        return n+sum_of_numbers(n-1)\\nsum_of_numbers(5453)',\n",
       " '_i5': '# mera function:\\ndef sum_of_numbers(n):\\n    if n==1:\\n        return 1\\n    else:\\n        return n+sum_of_numbers(n-1)\\nsum_of_numbers(553)',\n",
       " '_5': 153181,\n",
       " '_i6': '# mera function:\\ndef sum_of_numbers(n):\\n    if n==1:\\n        return 1\\n    else:\\n        return n+sum_of_numbers(n-1)\\nsum_of_numbers(55)',\n",
       " '_6': 1540,\n",
       " '_i7': '#lambda function;\\nmultiplay_of_numbers = lambda x,y:x*y\\nmultiplay_of_numbers(3,5) ',\n",
       " 'multiplay_of_numbers': <function __main__.<lambda>(x, y)>,\n",
       " '_7': 15,\n",
       " '_i8': 'hex(id(mera_variable))',\n",
       " '_i9': \"mera_variable ='kiran'\",\n",
       " 'mera_variable': 'kiran',\n",
       " '_i10': 'hex(id(mera_variable))',\n",
       " '_10': '0x170ae4dec10',\n",
       " '_i11': 'type(mera_variable)',\n",
       " '_11': str,\n",
       " '_i12': 'mera_variable',\n",
       " '_12': 'kiran',\n",
       " '_i13': 'hex(id(sum_of_numbers))',\n",
       " '_13': '0x170ae4c28e0',\n",
       " '_i14': 'type(sum_of_numbers)',\n",
       " '_14': function,\n",
       " '_i15': 'sum_of_numbers',\n",
       " '_15': <function __main__.sum_of_numbers(n)>,\n",
       " '_i16': 'hex(id(multiplay_of_numbers))',\n",
       " '_16': '0x170aea95120',\n",
       " '_i17': 'type(multiplay_of_numbers)',\n",
       " '_17': function,\n",
       " '_i18': 'multiplay_of_numbers',\n",
       " '_18': <function __main__.<lambda>(x, y)>,\n",
       " '_i19': 'globals()',\n",
       " '_19': {...},\n",
       " '_i20': \"#variable\\nmera_variable ='kiran'\",\n",
       " '_i21': 'hex(id(mera_variable))',\n",
       " '_21': '0x170ae4dec10',\n",
       " '_i22': 'type(mera_variable)',\n",
       " '_22': str,\n",
       " '_i23': 'mera_variable',\n",
       " '_23': 'kiran',\n",
       " '_i24': '# mera function:\\ndef sum_of_numbers(n):\\n    if n==1:\\n        return 1\\n    else:\\n        return n+sum_of_numbers(n-1)\\nsum_of_numbers(55)',\n",
       " '_24': 1540,\n",
       " '_i25': 'hex(id(sum_of_numbers))',\n",
       " '_25': '0x170aea96f20',\n",
       " '_i26': 'type(sum_of_numbers)',\n",
       " '_26': function,\n",
       " '_i27': 'sum_of_numbers',\n",
       " '_27': <function __main__.sum_of_numbers(n)>,\n",
       " '_i28': '#lambda function;\\nmultiplay_of_numbers = lambda x,y:x*y\\nmultiplay_of_numbers(3,5) ',\n",
       " '_28': 15,\n",
       " '_i29': 'hex(id(multiplay_of_numbers))',\n",
       " '_29': '0x170aea96700',\n",
       " '_i30': 'type(multiplay_of_numbers)',\n",
       " '_30': function,\n",
       " '_i31': 'multiplay_of_numbers',\n",
       " '_31': <function __main__.<lambda>(x, y)>,\n",
       " '_i32': 'globals()'}"
      ]
     },
     "metadata": {},
     "output_type": "display_data"
    }
   ],
   "source": [
    "globals()"
   ]
  }
 ],
 "metadata": {
  "language_info": {
   "name": "python"
  }
 },
 "nbformat": 4,
 "nbformat_minor": 2
}
