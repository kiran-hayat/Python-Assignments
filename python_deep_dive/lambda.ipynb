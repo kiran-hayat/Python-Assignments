{
 "cells": [
  {
   "cell_type": "markdown",
   "metadata": {},
   "source": [
    "# Assignment"
   ]
  },
  {
   "cell_type": "code",
   "execution_count": 3,
   "metadata": {},
   "outputs": [
    {
     "data": {
      "text/plain": [
       "36"
      ]
     },
     "execution_count": 3,
     "metadata": {},
     "output_type": "execute_result"
    }
   ],
   "source": [
    "# problem 1 :\n",
    "# square of Numbers\n",
    "square = lambda x: x**2\n",
    "square(5)\n",
    "\n",
    "def square(n):\n",
    "    return n**2\n",
    "square(6)"
   ]
  },
  {
   "cell_type": "code",
   "execution_count": 4,
   "metadata": {},
   "outputs": [
    {
     "data": {
      "text/plain": [
       "<function __main__.square(n)>"
      ]
     },
     "execution_count": 4,
     "metadata": {},
     "output_type": "execute_result"
    }
   ],
   "source": [
    "square"
   ]
  },
  {
   "cell_type": "code",
   "execution_count": 6,
   "metadata": {},
   "outputs": [
    {
     "data": {
      "text/plain": [
       "'0x2a4e01d9ee0'"
      ]
     },
     "execution_count": 6,
     "metadata": {},
     "output_type": "execute_result"
    }
   ],
   "source": [
    "hex(id(square))"
   ]
  },
  {
   "cell_type": "code",
   "execution_count": 7,
   "metadata": {},
   "outputs": [
    {
     "data": {
      "text/plain": [
       "function"
      ]
     },
     "execution_count": 7,
     "metadata": {},
     "output_type": "execute_result"
    }
   ],
   "source": [
    "type(square)"
   ]
  },
  {
   "cell_type": "code",
   "execution_count": 9,
   "metadata": {},
   "outputs": [
    {
     "data": {
      "text/plain": [
       "['B', 'F', 'K', 'Z', 'i', 'p', 'q', 'x', 'y']"
      ]
     },
     "execution_count": 9,
     "metadata": {},
     "output_type": "execute_result"
    }
   ],
   "source": [
    "l=['x','y','q','p','F','B','K','i','Z']\n",
    "sorted(l)"
   ]
  },
  {
   "cell_type": "code",
   "execution_count": 10,
   "metadata": {},
   "outputs": [
    {
     "data": {
      "text/plain": [
       "(66, 121, 112)"
      ]
     },
     "execution_count": 10,
     "metadata": {},
     "output_type": "execute_result"
    }
   ],
   "source": [
    "ord('B'),ord('y'),ord('p')"
   ]
  },
  {
   "cell_type": "code",
   "execution_count": 11,
   "metadata": {},
   "outputs": [
    {
     "name": "stdout",
     "output_type": "stream",
     "text": [
      "Help on built-in function sorted in module builtins:\n",
      "\n",
      "sorted(iterable, /, *, key=None, reverse=False)\n",
      "    Return a new list containing all items from the iterable in ascending order.\n",
      "    \n",
      "    A custom key function can be supplied to customize the sort order, and the\n",
      "    reverse flag can be set to request the result in descending order.\n",
      "\n"
     ]
    }
   ],
   "source": [
    "help(sorted)"
   ]
  },
  {
   "cell_type": "code",
   "execution_count": 13,
   "metadata": {},
   "outputs": [
    {
     "data": {
      "text/plain": [
       "<function Random.random()>"
      ]
     },
     "execution_count": 13,
     "metadata": {},
     "output_type": "execute_result"
    }
   ],
   "source": [
    "import random\n",
    "l=[34,64,74,23,63,72,634,134,75,37,3745,64]\n",
    "random.random"
   ]
  },
  {
   "cell_type": "code",
   "execution_count": 14,
   "metadata": {},
   "outputs": [
    {
     "name": "stdout",
     "output_type": "stream",
     "text": [
      "Help on built-in function random:\n",
      "\n",
      "random() method of random.Random instance\n",
      "    random() -> x in the interval [0, 1).\n",
      "\n"
     ]
    }
   ],
   "source": [
    "help(random.random)"
   ]
  },
  {
   "cell_type": "code",
   "execution_count": 19,
   "metadata": {},
   "outputs": [
    {
     "data": {
      "text/plain": [
       "[64, 634, 34, 72, 64, 37, 23, 134, 3745, 63, 74, 75]"
      ]
     },
     "execution_count": 19,
     "metadata": {},
     "output_type": "execute_result"
    }
   ],
   "source": [
    "l=[34,64,74,23,63,72,634,134,75,37,3745,64]\n",
    "sorted(l, key=lambda _: random.random())"
   ]
  },
  {
   "cell_type": "code",
   "execution_count": 51,
   "metadata": {},
   "outputs": [
    {
     "name": "stdout",
     "output_type": "stream",
     "text": [
      "35\n",
      "7\n",
      "10\n",
      "6\n",
      "9\n",
      "('r', 7)\n"
     ]
    },
    {
     "data": {
      "text/plain": [
       "[('g', 6), ('r', 7), ('z', 9), ('b', 10), ('a', 35)]"
      ]
     },
     "execution_count": 51,
     "metadata": {},
     "output_type": "execute_result"
    }
   ],
   "source": [
    "# problem 2:\n",
    "'''\n",
    "1. Ek list of tuples banain jahan har tuple mein do elements hon: ek string aur ek number.\n",
    "2. Ek normal function `sort_by_number` banain jo tuple ka second element return kare.\n",
    "3. Is function ko ek lambda expression mein convert karein aur phir list ko sorted function ke saath use karein.'''\n",
    "\n",
    "list = [('a',35),('r',7),('b',10),('g',6),('z',9)]\n",
    "\n",
    "\n",
    "def second_element(list):\n",
    "    for i in list:\n",
    "        print(i[1])\n",
    "\n",
    "\n",
    "second_element(list)\n",
    "\n",
    "# def sort_by_number(list):\n",
    "#     return list[1]\n",
    "\n",
    "# print(sort_by_number(list))\n",
    "\n",
    "list.sort(key=lambda x: x[1])\n",
    "\n",
    "list\n"
   ]
  },
  {
   "cell_type": "code",
   "execution_count": 77,
   "metadata": {},
   "outputs": [
    {
     "name": "stdout",
     "output_type": "stream",
     "text": [
      "4 2 6 8 48\n"
     ]
    }
   ],
   "source": [
    "# probelm 3: Filter even numbers\n",
    "'''1. Ek normal function `is_even` banain jo check kare ke number even hai ya nahi.\n",
    "2. Is function ko ek lambda expression mein convert karein aur phir is lambda function\n",
    " ko use karte hue ek list of numbers ko filter karein aur sirf even numbers ko print karein.'''\n",
    "\n",
    "def is_even(list):\n",
    "    for n in list:\n",
    "        if n % 2 == 0:\n",
    "            print(n)\n",
    "        else :\n",
    "           continue\n",
    "        \n",
    "list=[3,5,7,5,4,2,6,8,48]\n",
    "# is_even(list)\n",
    "\n",
    "is_even_2 = filter(lambda x: x%2==0, list)\n",
    "print(*is_even_2)"
   ]
  },
  {
   "cell_type": "code",
   "execution_count": null,
   "metadata": {},
   "outputs": [],
   "source": [
    "#filter is a built-in Python function that constructs an iterator \n",
    "# from elements of an iterable for which a function returns true. \n",
    "# In this case, we will use it to filter out the even numbers."
   ]
  },
  {
   "cell_type": "code",
   "execution_count": null,
   "metadata": {},
   "outputs": [],
   "source": [
    "# 'filter' takes two arguments: a function and an iterable.\n",
    "#The lambda function lambda n: n % 2 == 0 returns True if the number n is even, and False otherwise.\n",
    "#' filter' applies this lambda function to each element in numbers, returning an iterator with only the even numbers."
   ]
  },
  {
   "cell_type": "code",
   "execution_count": 81,
   "metadata": {},
   "outputs": [
    {
     "data": {
      "text/plain": [
       "filter"
      ]
     },
     "execution_count": 81,
     "metadata": {},
     "output_type": "execute_result"
    }
   ],
   "source": [
    "filter\n"
   ]
  },
  {
   "cell_type": "code",
   "execution_count": 80,
   "metadata": {},
   "outputs": [
    {
     "data": {
      "text/plain": [
       "mappingproxy({'__new__': <function filter.__new__(*args, **kwargs)>,\n",
       "              '__getattribute__': <slot wrapper '__getattribute__' of 'filter' objects>,\n",
       "              '__iter__': <slot wrapper '__iter__' of 'filter' objects>,\n",
       "              '__next__': <slot wrapper '__next__' of 'filter' objects>,\n",
       "              '__reduce__': <method '__reduce__' of 'filter' objects>,\n",
       "              '__doc__': 'filter(function or None, iterable) --> filter object\\n\\nReturn an iterator yielding those items of iterable for which function(item)\\nis true. If function is None, return the items that are true.'})"
      ]
     },
     "execution_count": 80,
     "metadata": {},
     "output_type": "execute_result"
    }
   ],
   "source": [
    "filter.__dict__"
   ]
  },
  {
   "cell_type": "code",
   "execution_count": 79,
   "metadata": {},
   "outputs": [
    {
     "name": "stdout",
     "output_type": "stream",
     "text": [
      "Help on class filter in module builtins:\n",
      "\n",
      "class filter(object)\n",
      " |  filter(function or None, iterable) --> filter object\n",
      " |  \n",
      " |  Return an iterator yielding those items of iterable for which function(item)\n",
      " |  is true. If function is None, return the items that are true.\n",
      " |  \n",
      " |  Methods defined here:\n",
      " |  \n",
      " |  __getattribute__(self, name, /)\n",
      " |      Return getattr(self, name).\n",
      " |  \n",
      " |  __iter__(self, /)\n",
      " |      Implement iter(self).\n",
      " |  \n",
      " |  __next__(self, /)\n",
      " |      Implement next(self).\n",
      " |  \n",
      " |  __reduce__(...)\n",
      " |      Return state information for pickling.\n",
      " |  \n",
      " |  ----------------------------------------------------------------------\n",
      " |  Static methods defined here:\n",
      " |  \n",
      " |  __new__(*args, **kwargs) from builtins.type\n",
      " |      Create and return a new object.  See help(type) for accurate signature.\n",
      "\n"
     ]
    }
   ],
   "source": [
    "help(filter)"
   ]
  }
 ],
 "metadata": {
  "kernelspec": {
   "display_name": "python_ml",
   "language": "python",
   "name": "python3"
  },
  "language_info": {
   "codemirror_mode": {
    "name": "ipython",
    "version": 3
   },
   "file_extension": ".py",
   "mimetype": "text/x-python",
   "name": "python",
   "nbconvert_exporter": "python",
   "pygments_lexer": "ipython3",
   "version": "3.11.5"
  }
 },
 "nbformat": 4,
 "nbformat_minor": 2
}
