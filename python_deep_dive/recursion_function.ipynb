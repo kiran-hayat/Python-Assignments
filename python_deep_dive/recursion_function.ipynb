{
 "cells": [
  {
   "cell_type": "code",
   "execution_count": 1,
   "metadata": {},
   "outputs": [
    {
     "data": {
      "text/plain": [
       "'tayah narik'"
      ]
     },
     "execution_count": 1,
     "metadata": {},
     "output_type": "execute_result"
    }
   ],
   "source": [
    "# reverse string\n",
    "def reverse_string(s):\n",
    "    if len(s)==0:\n",
    "        return \"\"\n",
    "    else:\n",
    "        return s[-1]+reverse_string(s[:-1])\n",
    "reverse_string('kiran hayat')"
   ]
  },
  {
   "cell_type": "code",
   "execution_count": 3,
   "metadata": {},
   "outputs": [
    {
     "name": "stdout",
     "output_type": "stream",
     "text": [
      "it is palindrome\n",
      "it is not palindrome\n"
     ]
    }
   ],
   "source": [
    "# palindrome\n",
    "def is_palidrome(s):\n",
    "    if len(s)==0:\n",
    "        print('it is palindrome')\n",
    "    else:\n",
    "        if s[0]==s[-1]:\n",
    "            return is_palidrome(s[1:-1])\n",
    "        else:\n",
    "            print('it is not palindrome')\n",
    "\n",
    "is_palidrome('madam')\n",
    "is_palidrome('kiran')"
   ]
  }
 ],
 "metadata": {
  "kernelspec": {
   "display_name": "python_ml",
   "language": "python",
   "name": "python3"
  },
  "language_info": {
   "codemirror_mode": {
    "name": "ipython",
    "version": 3
   },
   "file_extension": ".py",
   "mimetype": "text/x-python",
   "name": "python",
   "nbconvert_exporter": "python",
   "pygments_lexer": "ipython3",
   "version": "3.11.5"
  }
 },
 "nbformat": 4,
 "nbformat_minor": 2
}
