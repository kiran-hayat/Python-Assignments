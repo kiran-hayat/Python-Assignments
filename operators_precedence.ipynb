{
 "cells": [
  {
   "cell_type": "markdown",
   "metadata": {},
   "source": [
    "# Operators"
   ]
  },
  {
   "cell_type": "markdown",
   "metadata": {},
   "source": [
    "##### Operators:\n",
    "- Arithmetic Operators: +, -, *, /, %, **, //\n",
    "- Comparison Operators: ==, !=, >, <, >=, <=\n",
    "- Logical Operators: and, or, not\n"
   ]
  },
  {
   "cell_type": "markdown",
   "metadata": {},
   "source": [
    "##### Arithmetic operators: \n",
    "\n"
   ]
  },
  {
   "cell_type": "code",
   "execution_count": 20,
   "metadata": {},
   "outputs": [
    {
     "data": {
      "text/plain": [
       "12"
      ]
     },
     "execution_count": 20,
     "metadata": {},
     "output_type": "execute_result"
    }
   ],
   "source": [
    "a=7\n",
    "b=5\n",
    "# addition\n",
    "a+b"
   ]
  },
  {
   "cell_type": "code",
   "execution_count": 2,
   "metadata": {},
   "outputs": [
    {
     "data": {
      "text/plain": [
       "2"
      ]
     },
     "execution_count": 2,
     "metadata": {},
     "output_type": "execute_result"
    }
   ],
   "source": [
    "#subtraction\n",
    "a-b"
   ]
  },
  {
   "cell_type": "code",
   "execution_count": 3,
   "metadata": {},
   "outputs": [
    {
     "data": {
      "text/plain": [
       "35"
      ]
     },
     "execution_count": 3,
     "metadata": {},
     "output_type": "execute_result"
    }
   ],
   "source": [
    "# multiplication\n",
    "a * b"
   ]
  },
  {
   "cell_type": "code",
   "execution_count": 4,
   "metadata": {},
   "outputs": [
    {
     "data": {
      "text/plain": [
       "1.4"
      ]
     },
     "execution_count": 4,
     "metadata": {},
     "output_type": "execute_result"
    }
   ],
   "source": [
    "# division \n",
    "a / b"
   ]
  },
  {
   "cell_type": "code",
   "execution_count": 5,
   "metadata": {},
   "outputs": [
    {
     "data": {
      "text/plain": [
       "2"
      ]
     },
     "execution_count": 5,
     "metadata": {},
     "output_type": "execute_result"
    }
   ],
   "source": [
    "# modulus \n",
    "a % b"
   ]
  },
  {
   "cell_type": "code",
   "execution_count": 6,
   "metadata": {},
   "outputs": [
    {
     "data": {
      "text/plain": [
       "16807"
      ]
     },
     "execution_count": 6,
     "metadata": {},
     "output_type": "execute_result"
    }
   ],
   "source": [
    "# Exponentiation\n",
    "a ** b"
   ]
  },
  {
   "cell_type": "code",
   "execution_count": 7,
   "metadata": {},
   "outputs": [
    {
     "data": {
      "text/plain": [
       "1"
      ]
     },
     "execution_count": 7,
     "metadata": {},
     "output_type": "execute_result"
    }
   ],
   "source": [
    "# floor Division\n",
    "a // b"
   ]
  },
  {
   "cell_type": "markdown",
   "metadata": {},
   "source": [
    "##### Comparison operators"
   ]
  },
  {
   "cell_type": "code",
   "execution_count": 8,
   "metadata": {},
   "outputs": [
    {
     "data": {
      "text/plain": [
       "False"
      ]
     },
     "execution_count": 8,
     "metadata": {},
     "output_type": "execute_result"
    }
   ],
   "source": [
    "# equal\n",
    "a == b"
   ]
  },
  {
   "cell_type": "code",
   "execution_count": 9,
   "metadata": {},
   "outputs": [
    {
     "data": {
      "text/plain": [
       "True"
      ]
     },
     "execution_count": 9,
     "metadata": {},
     "output_type": "execute_result"
    }
   ],
   "source": [
    "# not equal\n",
    "a != b"
   ]
  },
  {
   "cell_type": "code",
   "execution_count": 10,
   "metadata": {},
   "outputs": [
    {
     "data": {
      "text/plain": [
       "True"
      ]
     },
     "execution_count": 10,
     "metadata": {},
     "output_type": "execute_result"
    }
   ],
   "source": [
    "# Greater Than\n",
    "a > b"
   ]
  },
  {
   "cell_type": "code",
   "execution_count": 11,
   "metadata": {},
   "outputs": [
    {
     "data": {
      "text/plain": [
       "False"
      ]
     },
     "execution_count": 11,
     "metadata": {},
     "output_type": "execute_result"
    }
   ],
   "source": [
    "# less than\n",
    "a < b"
   ]
  },
  {
   "cell_type": "code",
   "execution_count": 12,
   "metadata": {},
   "outputs": [
    {
     "data": {
      "text/plain": [
       "True"
      ]
     },
     "execution_count": 12,
     "metadata": {},
     "output_type": "execute_result"
    }
   ],
   "source": [
    "# greater than or equal to \n",
    "a >=b"
   ]
  },
  {
   "cell_type": "code",
   "execution_count": 13,
   "metadata": {},
   "outputs": [
    {
     "data": {
      "text/plain": [
       "False"
      ]
     },
     "execution_count": 13,
     "metadata": {},
     "output_type": "execute_result"
    }
   ],
   "source": [
    "# less than or equal to \n",
    "a <= b"
   ]
  },
  {
   "cell_type": "markdown",
   "metadata": {},
   "source": [
    "##### Logical Operators"
   ]
  },
  {
   "cell_type": "code",
   "execution_count": 16,
   "metadata": {},
   "outputs": [
    {
     "data": {
      "text/plain": [
       "False"
      ]
     },
     "execution_count": 16,
     "metadata": {},
     "output_type": "execute_result"
    }
   ],
   "source": [
    "# logical AND \n",
    "a = True\n",
    "b = False\n",
    "\n",
    "a and b "
   ]
  },
  {
   "cell_type": "code",
   "execution_count": 17,
   "metadata": {},
   "outputs": [
    {
     "data": {
      "text/plain": [
       "True"
      ]
     },
     "execution_count": 17,
     "metadata": {},
     "output_type": "execute_result"
    }
   ],
   "source": [
    "# logical OR\n",
    "a or b"
   ]
  },
  {
   "cell_type": "code",
   "execution_count": 19,
   "metadata": {},
   "outputs": [
    {
     "data": {
      "text/plain": [
       "False"
      ]
     },
     "execution_count": 19,
     "metadata": {},
     "output_type": "execute_result"
    }
   ],
   "source": [
    "# logical NOT\n",
    "not a"
   ]
  },
  {
   "cell_type": "markdown",
   "metadata": {},
   "source": [
    "## Assignment done"
   ]
  },
  {
   "cell_type": "code",
   "execution_count": 2,
   "metadata": {},
   "outputs": [
    {
     "name": "stdout",
     "output_type": "stream",
     "text": [
      "result1 13\n",
      "result2 16\n",
      "result3 6\n",
      "result4 10\n",
      "result5 21\n",
      "result6 13\n"
     ]
    }
   ],
   "source": [
    "# Assignment 1: Operator Precedence\n",
    "# Calculate the result of the following expression:\n",
    "# 3 + 5 * 2\n",
    "# Assign the result to the variable `result1` and print it.\n",
    "''' sol: 3+5*2\n",
    "3+10\n",
    "13'''\n",
    "result1 = 13\n",
    "\n",
    "# Assignment 2: Parentheses\n",
    "# Calculate the result of the following expression using parentheses to alter precedence:\n",
    "# (3 + 5) * 2\n",
    "# Assign the result to the variable `result2` and print it.\n",
    "'''sol:(3+5)*2\n",
    "8*2\n",
    "16'''\n",
    "result2 = 16\n",
    "\n",
    "# Assignment 3: Mixed Operators\n",
    "# Calculate the result of the following expression:\n",
    "# 4 + 3 * 2 - 8 / 4\n",
    "# Assign the result to the variable `result3` and print it.\n",
    "\n",
    "'''sol: 4+3*2-8/4\n",
    "4+6-2\n",
    "8-2\n",
    "6'''\n",
    "result3 = 6\n",
    "\n",
    "# Assignment 4: Left-to-Right Evaluation\n",
    "# Calculate the result of the following expression:\n",
    "# 20 / 4 * 2\n",
    "# Assign the result to the variable `result4` and print it.\n",
    "'''sol: 20/4*2\n",
    "5*2\n",
    "10'''\n",
    "result4 = 10\n",
    "\n",
    "# Assignment 5: Complex Expression\n",
    "# Calculate the result of the following expression:\n",
    "# 5 + 2 ** 3 * (6 / 3)\n",
    "# Assign the result to the variable `result5` and print it.\n",
    "'''sol:5+2**3*(6/3)\n",
    "5+8*2\n",
    "5+16\n",
    "21'''\n",
    "result5 = 21\n",
    "\n",
    "# Assignment 6: Nested Parentheses\n",
    "# Calculate the result of the following expression:\n",
    "# (5 + (2 ** 2) * 3) - (8 / 2)\n",
    "# Assign the result to the variable `result6` and print it.\n",
    "'''sol: (5+(2+2)*3)-(8/2)\n",
    "(5+4*3)-4\n",
    "(5+12)-4\n",
    "17-4\n",
    "13'''\n",
    "result6 = 13\n",
    "\n",
    "\n",
    "print('result1',result1)\n",
    "print('result2',result2)\n",
    "print('result3',result3)\n",
    "print('result4',result4)\n",
    "print('result5',result5)\n",
    "print('result6',result6)\n"
   ]
  }
 ],
 "metadata": {
  "kernelspec": {
   "display_name": "python_ml",
   "language": "python",
   "name": "python3"
  },
  "language_info": {
   "codemirror_mode": {
    "name": "ipython",
    "version": 3
   },
   "file_extension": ".py",
   "mimetype": "text/x-python",
   "name": "python",
   "nbconvert_exporter": "python",
   "pygments_lexer": "ipython3",
   "version": "3.11.5"
  }
 },
 "nbformat": 4,
 "nbformat_minor": 2
}
